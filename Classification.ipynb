{
 "cells": [
  {
   "cell_type": "code",
   "execution_count": 1,
   "metadata": {
    "pycharm": {
     "is_executing": true,
     "name": "#%%\n"
    }
   },
   "outputs": [
    {
     "name": "stdout",
     "output_type": "stream",
     "text": [
      "95.83' Accuracy of the prediction when number of iterations = 500'\n",
      "95.83' Accuracy of the prediction when number of iterations = 1000'\n",
      "95.83' Accuracy of the prediction when number of iterations = 2000'\n",
      "95.83' Accuracy of the prediction when number of iterations = 4000'\n",
      "95.83' Accuracy of the prediction when number of iterations = 8000'\n",
      "95.83' Accuracy of the prediction when number of iterations = 16000'\n",
      "95.83' Accuracy of the prediction when number of iterations = 32000'\n",
      "95.83' Accuracy of the prediction when number of iterations = 64000'\n"
     ]
    },
    {
     "data": {
      "image/png": "[encoded data removed]",
      "text/plain": [
       "<Figure size 432x288 with 1 Axes>"
      ]
     },
     "metadata": {
      "needs_background": "light"
     },
     "output_type": "display_data"
    }
   ],
   "source": [
    "import numpy as np\n",
    "import pandas as pd\n",
    "import matplotlib.pyplot as plt\n",
    "from DataAnalytics import preprocess\n",
    "from logistic_regression import logistic_regression\n",
    "from sklearn.model_selection import train_test_split\n",
    "from sklearn.linear_model import LogisticRegression\n",
    "\n",
    "\n",
    "def logistic_regression_(x_train, x_test, y_train, y_test):    \n",
    "\n",
    "    iterations = [500, 1000, 2000, 4000, 8000, 16000, 32000, 64000]\n",
    "    test_accuracy_iterations = np.empty(len(iterations))\n",
    "\n",
    "    for j, l in enumerate(iterations):\n",
    "\n",
    "        logreg = LogisticRegression(C=100, random_state=42, max_iter=l)\n",
    "        logreg.fit(x_train, y_train)\n",
    "\n",
    "        y_pred = logreg.predict(x_test)\n",
    "\n",
    "        correct = (y_test == y_pred).sum()\n",
    "        incorrect = (y_test != y_pred).sum()\n",
    "        accuracy = correct / (correct + incorrect) * 100\n",
    "\n",
    "        test_accuracy_iterations[j] = accuracy\n",
    "        print(\"%0.2f' Accuracy of the prediction when number of iterations = %2d'\" % (accuracy, l))\n",
    "\n",
    "    plt.plot(iterations, test_accuracy_iterations, label='Accuracy against iterations')\n",
    "    plt.legend()\n",
    "    plt.xlabel('Iterations')\n",
    "    plt.ylabel('Accuracy')\n",
    "    plt.show()\n",
    "\n",
    "def create_data_for_model(dataset):\n",
    "    x = []\n",
    "    y = []\n",
    "\n",
    "    for key in dataset:\n",
    "        row = []\n",
    "\n",
    "        #row.append(dataset[key].get('OPEN'))\n",
    "        row.append(float(dataset[key].get('CLOSE') / dataset[key].get('OPEN')) * 20)\n",
    "\n",
    "        if (dataset[key].get('PCT_CHANGE') >= 0.0):\n",
    "            y.append(1)\n",
    "        else:\n",
    "            y.append(0)\n",
    "\n",
    "        x.append(row)\n",
    "\n",
    "    return x, y\n",
    "\n",
    "def create_models(data):\n",
    "    x, y = create_data_for_model(data)\n",
    "    x_train, x_test, y_train, y_test = train_test_split(x, y, test_size=0.20, random_state=42)\n",
    "    logistic_regression_(x_train, x_test, y_train, y_test)\n",
    "\n",
    "\n",
    "def classification(dataFile):\n",
    "    dict_data = preprocess(dataFile, False)\n",
    "    create_models(dict_data)\n",
    "\n",
    "\n",
    "classification('1150_HISTORY_ADJUSTED_2019.xlsx')\n"
   ]
  },
  {
   "cell_type": "code",
   "execution_count": null,
   "metadata": {},
   "outputs": [],
   "source": []
  }
 ],
 "metadata": {
  "kernelspec": {
   "display_name": "Python 3",
   "language": "python",
   "name": "python3"
  },
  "language_info": {
   "codemirror_mode": {
    "name": "ipython",
    "version": 3
   },
   "file_extension": ".py",
   "mimetype": "text/x-python",
   "name": "python",
   "nbconvert_exporter": "python",
   "pygments_lexer": "ipython3",
   "version": "3.8.1"
  },
  "pycharm": {
   "stem_cell": {
    "cell_type": "raw",
    "metadata": {
     "collapsed": false
    },
    "source": []
   }
  }
 },
 "nbformat": 4,
 "nbformat_minor": 1
}
